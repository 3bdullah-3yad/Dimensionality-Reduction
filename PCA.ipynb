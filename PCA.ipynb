{
 "cells": [
  {
   "cell_type": "markdown",
   "id": "eb6f0462",
   "metadata": {},
   "source": [
    "# <span style=\"color:red\">======================Ayad======================</span>"
   ]
  },
  {
   "cell_type": "markdown",
   "id": "4b091cd3",
   "metadata": {},
   "source": [
    "# <span style=\"color:blue\">1- Data</span>"
   ]
  },
  {
   "cell_type": "code",
   "execution_count": 1,
   "id": "9833586e",
   "metadata": {},
   "outputs": [
    {
     "data": {
      "text/plain": [
       "dict_keys(['data', 'target', 'frame', 'categories', 'feature_names', 'target_names', 'DESCR', 'details', 'url'])"
      ]
     },
     "execution_count": 1,
     "metadata": {},
     "output_type": "execute_result"
    }
   ],
   "source": [
    "from sklearn.datasets import fetch_openml\n",
    "mnist = fetch_openml('mnist_784')\n",
    "mnist.keys()"
   ]
  },
  {
   "cell_type": "code",
   "execution_count": 2,
   "id": "1a12f89a",
   "metadata": {},
   "outputs": [],
   "source": [
    "X, y = mnist[\"data\"], mnist[\"target\"]"
   ]
  },
  {
   "cell_type": "code",
   "execution_count": 3,
   "id": "d2d4f12c",
   "metadata": {},
   "outputs": [
    {
     "data": {
      "text/plain": [
       "((70000, 784), (70000,))"
      ]
     },
     "execution_count": 3,
     "metadata": {},
     "output_type": "execute_result"
    }
   ],
   "source": [
    "X.shape, y.shape"
   ]
  },
  {
   "cell_type": "code",
   "execution_count": 9,
   "id": "a9c45ccc",
   "metadata": {},
   "outputs": [],
   "source": [
    "import seaborn as sns\n",
    "import matplotlib.pyplot as plt\n",
    "import warnings\n",
    "warnings.filterwarnings('ignore')"
   ]
  },
  {
   "cell_type": "code",
   "execution_count": 25,
   "id": "7e0da4ee",
   "metadata": {},
   "outputs": [
    {
     "data": {
      "image/png": "[encoded data removed]",
      "text/plain": [
       "<Figure size 792x504 with 1 Axes>"
      ]
     },
     "metadata": {
      "needs_background": "light"
     },
     "output_type": "display_data"
    }
   ],
   "source": [
    "plt.figure(figsize=(11, 7))\n",
    "\n",
    "sns.countplot(y)\n",
    "plt.show()"
   ]
  },
  {
   "cell_type": "markdown",
   "id": "e1f8260c",
   "metadata": {},
   "source": [
    " ### <span style=\"color:green\">Is there any missing values???</span>"
   ]
  },
  {
   "cell_type": "code",
   "execution_count": 30,
   "id": "144b9c4e",
   "metadata": {},
   "outputs": [
    {
     "data": {
      "text/plain": [
       "0"
      ]
     },
     "execution_count": 30,
     "metadata": {},
     "output_type": "execute_result"
    }
   ],
   "source": [
    "X.isnull().sum().values.sum()"
   ]
  },
  {
   "cell_type": "markdown",
   "id": "f5c7eccc",
   "metadata": {},
   "source": [
    "# <span style=\"color:blue\">2- Fitting the RFC model on the original dataset</span>"
   ]
  },
  {
   "cell_type": "markdown",
   "id": "5906b6f8",
   "metadata": {},
   "source": [
    "#### Because we will fit this more than once, might as well make a function"
   ]
  },
  {
   "cell_type": "code",
   "execution_count": 31,
   "id": "b18647ac",
   "metadata": {},
   "outputs": [],
   "source": [
    "from sklearn.ensemble import RandomForestClassifier\n",
    "from sklearn.model_selection import train_test_split\n",
    "from sklearn.metrics import accuracy_score, confusion_matrix"
   ]
  },
  {
   "cell_type": "code",
   "execution_count": 51,
   "id": "4af216a6",
   "metadata": {},
   "outputs": [],
   "source": [
    "def fit_random_forest_classifier(X, y, cm = False):\n",
    "    '''\n",
    "    INPUT: names are pretty self explanatory\n",
    "    OUTPUT: none - prints the confusion matrix and accuracy\n",
    "    '''\n",
    "    #First let's create training and testing data\n",
    "    X_train, X_test, y_train, y_test = train_test_split(X, y, test_size=0.33, random_state=42)\n",
    "\n",
    "    #We could grid search and tune, but let's just fit a simple model to see how it does\n",
    "    #instantiate\n",
    "    clf = RandomForestClassifier(n_estimators=100, max_depth=None)\n",
    "\n",
    "    #fit\n",
    "    clf.fit(X_train, y_train)\n",
    "\n",
    "    #predict\n",
    "    y_preds = clf.predict(X_test)\n",
    "\n",
    "    #score\n",
    "    if cm:\n",
    "        mat = confusion_matrix(y_test, y_preds)\n",
    "        print(sns.heatmap(mat, annot=True, cmap='bwr', linewidths=.5))\n",
    "    \n",
    "    acc = accuracy_score(y_test, y_preds)\n",
    "    return acc"
   ]
  },
  {
   "cell_type": "code",
   "execution_count": 52,
   "id": "7d6f2ac9",
   "metadata": {},
   "outputs": [
    {
     "data": {
      "text/plain": [
       "0.9658441558441558"
      ]
     },
     "execution_count": 52,
     "metadata": {},
     "output_type": "execute_result"
    }
   ],
   "source": [
    "fit_random_forest_classifier(X, y)"
   ]
  },
  {
   "cell_type": "markdown",
   "id": "fb972e99",
   "metadata": {},
   "source": [
    "# <span style=\"color:blue\">3- principal component analysis (PCA)</span>"
   ]
  },
  {
   "cell_type": "code",
   "execution_count": 37,
   "id": "629cf802",
   "metadata": {},
   "outputs": [],
   "source": [
    "from sklearn.decomposition import PCA\n",
    "from sklearn.preprocessing import StandardScaler"
   ]
  },
  {
   "cell_type": "code",
   "execution_count": 45,
   "id": "048a5152",
   "metadata": {},
   "outputs": [],
   "source": [
    "def do_pca(data, n_components):\n",
    "    '''\n",
    "    INPUT: data - the data you would like to transform\n",
    "           n_components - int - the number of principal components to create\n",
    "           \n",
    "    OUTPUT: pca - the pca object created after fitting the data\n",
    "            X_pca - the transformed X matrix with new number of components\n",
    "    '''\n",
    "    X = StandardScaler().fit_transform(data)\n",
    "    pca = PCA(n_components)\n",
    "    X_pca = pca.fit_transform(X)\n",
    "    return pca, X_pca"
   ]
  },
  {
   "cell_type": "code",
   "execution_count": 43,
   "id": "4356bd70",
   "metadata": {},
   "outputs": [],
   "source": [
    "pca, X_pca = do_pca(X, 2)"
   ]
  },
  {
   "cell_type": "code",
   "execution_count": 44,
   "id": "0a19bc2f",
   "metadata": {},
   "outputs": [
    {
     "name": "stdout",
     "output_type": "stream",
     "text": [
      "0.3219480519480519\n"
     ]
    }
   ],
   "source": [
    "fit_random_forest_classifier(X_pca, y)"
   ]
  },
  {
   "cell_type": "markdown",
   "id": "8ad94aae",
   "metadata": {},
   "source": [
    "**See if you can find a reduced number of features that provides better separation to make predictions. Say you want to get separation that allows for accuracy of more than 90%, how many principal components are needed to obtain this level of accuracy? Were you able to substantially reduce the number of features needed in your final model?**"
   ]
  },
  {
   "cell_type": "code",
   "execution_count": 65,
   "id": "c8ad743c",
   "metadata": {},
   "outputs": [
    {
     "name": "stdout",
     "output_type": "stream",
     "text": [
      "With only 10 components, a random forest acheived an accuracy of 0.9037662337662338.\n"
     ]
    }
   ],
   "source": [
    "for comp in range(2, 100):\n",
    "    pca, X_pca = do_pca(X, comp)\n",
    "    acc = fit_random_forest_classifier(X_pca, y)\n",
    "    if acc > .90:\n",
    "        num_comps = pca.n_components\n",
    "        break\n",
    "        \n",
    "print(\"With only {} components, a random forest acheived an accuracy of {}.\".format(num_comps, acc))"
   ]
  },
  {
   "cell_type": "markdown",
   "id": "9b9b8fe3",
   "metadata": {},
   "source": [
    "**One of the main features to consider is something called the explained_variance_ratio. I created what's known as a scree_plot to show the explained_variance_ratio for each of the 15 components.**"
   ]
  },
  {
   "cell_type": "code",
   "execution_count": 61,
   "id": "17916f24",
   "metadata": {},
   "outputs": [],
   "source": [
    "def scree_plot(pca):\n",
    "    '''\n",
    "    Creates a scree plot associated with the principal components \n",
    "    \n",
    "    INPUT: pca - the result of instantian of PCA in scikit learn\n",
    "            \n",
    "    OUTPUT: None\n",
    "    '''\n",
    "    \n",
    "    num_components = len(pca.explained_variance_ratio_)\n",
    "    ind = np.arange(num_components)\n",
    "    vals = pca.explained_variance_ratio_\n",
    " \n",
    "    plt.figure(figsize=(10, 6))\n",
    "    ax = plt.subplot(111)\n",
    "    cumvals = np.cumsum(vals)\n",
    "    ax.bar(ind, vals)\n",
    "    ax.plot(ind, cumvals)\n",
    "    for i in range(num_components):\n",
    "        ax.annotate(r\"%s%%\" % ((str(vals[i]*100)[:4])), (ind[i]+0.2, vals[i]), va=\"bottom\", ha=\"center\", fontsize=12)\n",
    " \n",
    "    ax.xaxis.set_tick_params(width=0)\n",
    "    ax.yaxis.set_tick_params(width=2, length=12)\n",
    " \n",
    "    ax.set_xlabel(\"Principal Component\")\n",
    "    ax.set_ylabel(\"Variance Explained (%)\")\n",
    "    plt.title('Explained Variance Per Principal Component')\n",
    "    "
   ]
  },
  {
   "cell_type": "code",
   "execution_count": 62,
   "id": "cc140201",
   "metadata": {},
   "outputs": [
    {
     "data": {
      "image/png": "[encoded data removed]",
      "text/plain": [
       "<Figure size 720x432 with 1 Axes>"
      ]
     },
     "metadata": {
      "needs_background": "light"
     },
     "output_type": "display_data"
    }
   ],
   "source": [
    "scree_plot(pca)"
   ]
  },
  {
   "cell_type": "markdown",
   "id": "0c675c45",
   "metadata": {},
   "source": [
    "Each of the bars represents the amount of variability explained by each component. So you can see the first component explains 6.13% of the variability in the image data. The second explains 4.29% of the variability and so on. Often the number of components is chosen based on the total amount of variability explained by the components. You can see that by using 15 components, we capture almost 35% of the total variability in the images."
   ]
  },
  {
   "cell_type": "code",
   "execution_count": 63,
   "id": "fcad9669",
   "metadata": {},
   "outputs": [
    {
     "data": {
      "text/plain": [
       "(10, 784)"
      ]
     },
     "execution_count": 63,
     "metadata": {},
     "output_type": "execute_result"
    }
   ],
   "source": [
    "pca.components_.shape"
   ]
  },
  {
   "cell_type": "markdown",
   "id": "bd062cfc",
   "metadata": {},
   "source": [
    "You have had an opportunity to look at the two major parts of PCA:\n",
    "\n",
    "`I.` The amount of **variance explained by each component**.  This is called an **eigenvalue**.\n",
    "\n",
    "`II.` The principal components themselves, each component is a vector of weights.  In this case, the principal components help us understand which pixels of the image are most helpful in identifying the difference between digits. **Principal components** are also known as **eigenvectors**."
   ]
  },
  {
   "cell_type": "markdown",
   "id": "8b67c332",
   "metadata": {},
   "source": [
    "# <span style=\"color:red\">======================Ayad======================</span>"
   ]
  }
 ],
 "metadata": {
  "kernelspec": {
   "display_name": "Python 3 (ipykernel)",
   "language": "python",
   "name": "python3"
  },
  "language_info": {
   "codemirror_mode": {
    "name": "ipython",
    "version": 3
   },
   "file_extension": ".py",
   "mimetype": "text/x-python",
   "name": "python",
   "nbconvert_exporter": "python",
   "pygments_lexer": "ipython3",
   "version": "3.9.7"
  }
 },
 "nbformat": 4,
 "nbformat_minor": 5
}
