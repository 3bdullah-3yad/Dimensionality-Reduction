{
 "cells": [
  {
   "cell_type": "markdown",
   "id": "d53357b5",
   "metadata": {},
   "source": [
    "# <span style=\"color:red\">======================Ayad======================</span>"
   ]
  },
  {
   "cell_type": "markdown",
   "id": "5cf34cb5",
   "metadata": {},
   "source": [
    "# <span style=\"color:blue\">1- Data</span>"
   ]
  },
  {
   "cell_type": "code",
   "execution_count": 1,
   "id": "9bdac29d",
   "metadata": {},
   "outputs": [
    {
     "data": {
      "text/plain": [
       "dict_keys(['data', 'target', 'frame', 'categories', 'feature_names', 'target_names', 'DESCR', 'details', 'url'])"
      ]
     },
     "execution_count": 1,
     "metadata": {},
     "output_type": "execute_result"
    }
   ],
   "source": [
    "from sklearn.datasets import fetch_openml\n",
    "mnist = fetch_openml('mnist_784')\n",
    "mnist.keys()"
   ]
  },
  {
   "cell_type": "code",
   "execution_count": 2,
   "id": "5bb8aaf8",
   "metadata": {},
   "outputs": [],
   "source": [
    "X, y = mnist[\"data\"], mnist[\"target\"]"
   ]
  },
  {
   "cell_type": "code",
   "execution_count": 3,
   "id": "078dd46e",
   "metadata": {},
   "outputs": [
    {
     "data": {
      "text/plain": [
       "((70000, 784), (70000,))"
      ]
     },
     "execution_count": 3,
     "metadata": {},
     "output_type": "execute_result"
    }
   ],
   "source": [
    "X.shape, y.shape"
   ]
  },
  {
   "cell_type": "code",
   "execution_count": 4,
   "id": "2eea8ad9",
   "metadata": {},
   "outputs": [],
   "source": [
    "import seaborn as sns\n",
    "import matplotlib.pyplot as plt\n",
    "import warnings\n",
    "warnings.filterwarnings('ignore')"
   ]
  },
  {
   "cell_type": "code",
   "execution_count": 5,
   "id": "66219999",
   "metadata": {},
   "outputs": [
    {
     "data": {
      "image/png": "[encoded data removed]",
      "text/plain": [
       "<Figure size 792x504 with 1 Axes>"
      ]
     },
     "metadata": {
      "needs_background": "light"
     },
     "output_type": "display_data"
    }
   ],
   "source": [
    "plt.figure(figsize=(11, 7))\n",
    "\n",
    "sns.countplot(y)\n",
    "plt.show()"
   ]
  },
  {
   "cell_type": "markdown",
   "id": "c33835e3",
   "metadata": {},
   "source": [
    " ### <span style=\"color:green\">Is there any missing values???</span>"
   ]
  },
  {
   "cell_type": "code",
   "execution_count": 6,
   "id": "f499505b",
   "metadata": {},
   "outputs": [
    {
     "data": {
      "text/plain": [
       "0"
      ]
     },
     "execution_count": 6,
     "metadata": {},
     "output_type": "execute_result"
    }
   ],
   "source": [
    "X.isnull().sum().values.sum()"
   ]
  },
  {
   "cell_type": "markdown",
   "id": "dbfd540e",
   "metadata": {},
   "source": [
    "# <span style=\"color:blue\">2- Fitting the RFC model on the original dataset</span>"
   ]
  },
  {
   "cell_type": "markdown",
   "id": "d2f5dae5",
   "metadata": {},
   "source": [
    "#### Because we will fit this more than once, might as well make a function"
   ]
  },
  {
   "cell_type": "code",
   "execution_count": 7,
   "id": "21595759",
   "metadata": {},
   "outputs": [],
   "source": [
    "from sklearn.ensemble import RandomForestClassifier\n",
    "from sklearn.model_selection import train_test_split\n",
    "from sklearn.metrics import accuracy_score, confusion_matrix"
   ]
  },
  {
   "cell_type": "code",
   "execution_count": 8,
   "id": "f00b767e",
   "metadata": {},
   "outputs": [],
   "source": [
    "def fit_random_forest_classifier(X, y, cm = False):\n",
    "    '''\n",
    "    INPUT: names are pretty self explanatory\n",
    "    OUTPUT: none - prints the confusion matrix and accuracy\n",
    "    '''\n",
    "    #First let's create training and testing data\n",
    "    X_train, X_test, y_train, y_test = train_test_split(X, y, test_size=0.33, random_state=42)\n",
    "\n",
    "    #We could grid search and tune, but let's just fit a simple model to see how it does\n",
    "    #instantiate\n",
    "    clf = RandomForestClassifier(n_estimators=100, max_depth=None)\n",
    "\n",
    "    #fit\n",
    "    clf.fit(X_train, y_train)\n",
    "\n",
    "    #predict\n",
    "    y_preds = clf.predict(X_test)\n",
    "\n",
    "    #score\n",
    "    if cm:\n",
    "        mat = confusion_matrix(y_test, y_preds)\n",
    "        print(sns.heatmap(mat, annot=True, cmap='bwr', linewidths=.5))\n",
    "    \n",
    "    acc = accuracy_score(y_test, y_preds)\n",
    "    return acc"
   ]
  },
  {
   "cell_type": "code",
   "execution_count": 32,
   "id": "f0abc3d1",
   "metadata": {},
   "outputs": [],
   "source": [
    "import time"
   ]
  },
  {
   "cell_type": "code",
   "execution_count": 28,
   "id": "7d4d96f0",
   "metadata": {},
   "outputs": [
    {
     "name": "stdout",
     "output_type": "stream",
     "text": [
      "RF acheived an accuracy of 96.56% before dimensionality reduction.\n",
      "\n",
      "The consumed time for fitting after dimensionality reduction: 38.0942 Seconds\n"
     ]
    }
   ],
   "source": [
    "tic = time.time()\n",
    "\n",
    "acc = fit_random_forest_classifier(X, y)\n",
    "print(f\"RF acheived an accuracy of {round(acc*100, 2)}% before dimensionality reduction.\")\n",
    "\n",
    "toc = time.time()\n",
    "print(f'\\nThe consumed time for fitting after dimensionality reduction: {np.round(toc-tic, 4)} Seconds')"
   ]
  },
  {
   "cell_type": "markdown",
   "id": "34140fba",
   "metadata": {},
   "source": [
    "# <span style=\"color:blue\">3- Random Projection</span>"
   ]
  },
  {
   "cell_type": "code",
   "execution_count": 10,
   "id": "06ec6f0e",
   "metadata": {},
   "outputs": [],
   "source": [
    "from sklearn.random_projection import SparseRandomProjection\n",
    "rp = SparseRandomProjection(eps = 0.5)"
   ]
  },
  {
   "cell_type": "code",
   "execution_count": 12,
   "id": "6426ff05",
   "metadata": {},
   "outputs": [],
   "source": [
    "X_rp = rp.fit_transform(X)"
   ]
  },
  {
   "cell_type": "code",
   "execution_count": 13,
   "id": "99b8cc6a",
   "metadata": {},
   "outputs": [
    {
     "name": "stdout",
     "output_type": "stream",
     "text": [
      "The orignial data has 784 dimensions and it is reduced to 535 after random projection.\n"
     ]
    }
   ],
   "source": [
    "rp_dim = rp.n_components_\n",
    "X_dim = X.shape[1]\n",
    "print(\"The orignial data has {} dimensions and it is reduced to {} after random projection.\".format(X_dim, rp_dim))"
   ]
  },
  {
   "cell_type": "code",
   "execution_count": 29,
   "id": "ceea17ac",
   "metadata": {},
   "outputs": [
    {
     "name": "stdout",
     "output_type": "stream",
     "text": [
      "RF acheived an accuracy of 94.52% after dimensionality reduction.\n",
      "\n",
      "The consumed time for fitting after dimensionality reduction: 106.6518 Seconds\n"
     ]
    }
   ],
   "source": [
    "tic = time.time()\n",
    "\n",
    "acc = fit_random_forest_classifier(X_rp, y)\n",
    "print(f\"RF acheived an accuracy of {round(acc*100, 2)}% after dimensionality reduction.\")\n",
    "\n",
    "toc = time.time()\n",
    "print(f'\\nThe consumed time for fitting after dimensionality reduction: {np.round(toc-tic, 4)} Seconds')"
   ]
  },
  {
   "cell_type": "markdown",
   "id": "9a0f281c",
   "metadata": {},
   "source": [
    "`*` Epsilon is the level of errors that determins how much the transformed data is distorded from the original data. Now, see if you can change the epsilon to reduce the dimension even more. What is the accuracy of the classifying model?"
   ]
  },
  {
   "cell_type": "code",
   "execution_count": 33,
   "id": "1cc3ce58",
   "metadata": {},
   "outputs": [
    {
     "name": "stdout",
     "output_type": "stream",
     "text": [
      "With epsilon = 0.5, the transformed data has 535 components, a random forest acheived an accuracy of 96.5%.\n",
      "With epsilon = 0.6, the transformed data has 413 components, a random forest acheived an accuracy of 96.59%.\n",
      "With epsilon = 0.7, the transformed data has 341 components, a random forest acheived an accuracy of 96.52%.\n",
      "With epsilon = 0.7999999999999999, the transformed data has 298 components, a random forest acheived an accuracy of 96.55%.\n"
     ]
    }
   ],
   "source": [
    "# TODO: write a loop to transform X using different epsilons and get the accuracy score of classification\n",
    "for sample_eps in np.arange(0.5, 0.9, 0.1):\n",
    "    rp = SparseRandomProjection(eps = sample_eps)\n",
    "    X_rp = rp.fit_transform(X)\n",
    "    acc = fit_random_forest_classifier(X, y)\n",
    "    print(f\"With epsilon = {sample_eps}, the transformed data has {X_rp.shape[1]} components, a random forest acheived an accuracy of {round(acc*100, 2)}%.\")"
   ]
  },
  {
   "cell_type": "markdown",
   "id": "81d8bdf0",
   "metadata": {},
   "source": [
    "`*` As you can see, the accuracy is still very high after recuding more than half of the columns. And higer value of epsilon gives you a dataset with lower number of components. epsilon is an important parameter in the the Johnson-Lindenstrauss lemma. Let's see how epsilon changes the number of components projected."
   ]
  },
  {
   "cell_type": "code",
   "execution_count": 34,
   "id": "93a1c1bb",
   "metadata": {},
   "outputs": [],
   "source": [
    "from sklearn.random_projection import johnson_lindenstrauss_min_dim\n",
    "eps = np.arange(0.1, 1, 0.01)\n",
    "n_comp = johnson_lindenstrauss_min_dim(n_samples=1e6, eps=eps)"
   ]
  },
  {
   "cell_type": "code",
   "execution_count": 35,
   "id": "78059da3",
   "metadata": {},
   "outputs": [],
   "source": [
    "import matplotlib.pyplot as plt"
   ]
  },
  {
   "cell_type": "code",
   "execution_count": 36,
   "id": "902b3f7e",
   "metadata": {},
   "outputs": [
    {
     "data": {
      "image/png": "[encoded data removed]",
      "text/plain": [
       "<Figure size 432x288 with 1 Axes>"
      ]
     },
     "metadata": {
      "needs_background": "light"
     },
     "output_type": "display_data"
    }
   ],
   "source": [
    "plt.plot(eps, n_comp, 'bo');\n",
    "plt.xlabel('eps');\n",
    "plt.ylabel('Number of Components');\n",
    "plt.title('Number of Components by eps');"
   ]
  },
  {
   "cell_type": "markdown",
   "id": "280ef9ee",
   "metadata": {},
   "source": [
    "# <span style=\"color:red\">======================Ayad======================</span>"
   ]
  }
 ],
 "metadata": {
  "kernelspec": {
   "display_name": "Python 3 (ipykernel)",
   "language": "python",
   "name": "python3"
  },
  "language_info": {
   "codemirror_mode": {
    "name": "ipython",
    "version": 3
   },
   "file_extension": ".py",
   "mimetype": "text/x-python",
   "name": "python",
   "nbconvert_exporter": "python",
   "pygments_lexer": "ipython3",
   "version": "3.9.7"
  }
 },
 "nbformat": 4,
 "nbformat_minor": 5
}
